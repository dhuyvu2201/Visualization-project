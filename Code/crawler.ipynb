{
 "cells": [
  {
   "cell_type": "code",
   "execution_count": 1,
   "metadata": {},
   "outputs": [],
   "source": [
    "import requests\n",
    "from bs4 import BeautifulSoup\n",
    "import pandas as pd\n",
    "\n",
    "# URL = \"https://www.nettruyenonline.com/truyen-hay-nhat/1.html\"\n",
    "# page = requests.get(URL)\n",
    "\n",
    "# soup = BeautifulSoup(page.content, \"html.parser\")\n",
    "# soup"
   ]
  },
  {
   "cell_type": "code",
   "execution_count": 2,
   "metadata": {},
   "outputs": [],
   "source": [
    "# product_list = soup.select('div.row > div.item')\n",
    "# product_item = product_list[1]\n",
    "# # product_item\n",
    "# product_link =  product_item.find('a').get_attribute_list('href')[0]\n",
    "\n",
    "# page_item = requests.get(product_link)\n",
    "# soup_item = BeautifulSoup(page_item.content, \"html.parser\")\n",
    "# data = {}\n",
    "\n",
    "# def getTextSelect(str):\n",
    "#    return soup_item.select_one(str).get_text()\n",
    "\n",
    "# data['name'] = getTextSelect('#item-detail > h1')\n",
    "# data['category'] = getTextSelect('#ctl00_divCenter > ul.breadcrumb > li:nth-child(3) > a > span')\n",
    "# data['author'] = getTextSelect('#item-detail > div.detail-info > div > div.col-xs-8.col-info > ul > li.author.row > p.col-xs-8 > a')\n",
    "# data['categories_list'] = getTextSelect('#item-detail > div.detail-info > div > div.col-xs-8.col-info > ul > li.kind.row > p.col-xs-8')\n",
    "# data['view_count'] = getTextSelect('#item-detail > div.detail-info > div > div.col-xs-8.col-info > ul > li:nth-child(3) > p.col-xs-8')\n",
    "# data['ratting_value'] = getTextSelect('#item-detail > div.detail-info > div > div.col-xs-8.col-info > div:nth-child(3) > span > span:nth-child(1)')\n",
    "# data['ratting_count'] = getTextSelect('#item-detail > div.detail-info > div > div.col-xs-8.col-info > div:nth-child(3) > span > span:nth-child(2)')\n",
    "# data['chapter_cout'] = getTextSelect('#nt_listchapter > nav > ul > li:nth-child(2) > div.col-xs-9.chapter > a').split(\"-\")[0].split(\" \")[1]\n",
    "# # features = soup_item.select('#content_features > div.NkPdp_productSpecification > div.productSpecification_col-2 > div > table > tbody > tr')\n",
    "# # for f in features:\n",
    "# #    name = f.select_one('td.title').get_text()\n",
    "# #    value = f.select_one('td.value').get_text()\n",
    "# #    phone[name] = value\n",
    "\n",
    "\n",
    "\n",
    "# data"
   ]
  },
  {
   "cell_type": "code",
   "execution_count": 3,
   "metadata": {},
   "outputs": [],
   "source": [
    "def getInfo(product_link):\n",
    "    \n",
    "    page_item = requests.get(product_link)\n",
    "    soup_item = BeautifulSoup(page_item.content, \"html.parser\")\n",
    "    data = {}\n",
    "\n",
    "    def getTextSelect(str):\n",
    "        return soup_item.select_one(str).get_text()\n",
    "\n",
    "    data['name'] = getTextSelect('#item-detail > h1')\n",
    "    data['category'] = getTextSelect('#ctl00_divCenter > ul.breadcrumb > li:nth-child(3) > a > span')\n",
    "    data['author'] = getTextSelect('#item-detail > div.detail-info > div > div.col-xs-8.col-info > ul > li.author.row > p.col-xs-8 > a')\n",
    "    data['categories_list'] = getTextSelect('#item-detail > div.detail-info > div > div.col-xs-8.col-info > ul > li.kind.row > p.col-xs-8')\n",
    "    data['view_count'] = getTextSelect('#item-detail > div.detail-info > div > div.col-xs-8.col-info > ul > li:nth-child(3) > p.col-xs-8')\n",
    "    data['ratting_value'] = getTextSelect('#item-detail > div.detail-info > div > div.col-xs-8.col-info > div:nth-child(3) > span > span:nth-child(1)')\n",
    "    data['ratting_count'] = getTextSelect('#item-detail > div.detail-info > div > div.col-xs-8.col-info > div:nth-child(3) > span > span:nth-child(2)')\n",
    "    data['chapter_cout'] = getTextSelect('#nt_listchapter > nav > ul > li:nth-child(2) > div.col-xs-9.chapter > a').split(\"-\")[0]\n",
    "            \n",
    "\n",
    "    return dict(data)\n",
    "\n",
    "\n",
    "# getInfo('https://didongviet.vn/oppo-a16k.html')"
   ]
  },
  {
   "cell_type": "code",
   "execution_count": 4,
   "metadata": {},
   "outputs": [],
   "source": [
    "# import pandas as pd\n",
    "\n",
    "# data_dict = []\n",
    "\n",
    "# for product in product_list:\n",
    "#     product_link =  product.find('a', class_=\"product-item-link\").get_attribute_list('href')[0]\n",
    "#     print(product_link)\n",
    "#     data_dict.append(getInfo(product_link))\n",
    "#     # try:\n",
    "#     #     getInfo(product_link)\n",
    "#     #     print(\"ok \",product_link)\n",
    "#     # except:\n",
    "#     #     print(\"fail: \", product_link)\n",
    "#     #     pass\n",
    "    \n",
    "    \n",
    "# pd.DataFrame.from_dict(data_dict, orient='columns')"
   ]
  },
  {
   "cell_type": "code",
   "execution_count": 5,
   "metadata": {},
   "outputs": [],
   "source": [
    "# df = pd.DataFrame.from_dict(data_dict, orient='columns')\n",
    "# df.to_csv('data_phone.csv')"
   ]
  },
  {
   "cell_type": "code",
   "execution_count": 6,
   "metadata": {},
   "outputs": [],
   "source": [
    "# df.columns"
   ]
  },
  {
   "cell_type": "code",
   "execution_count": 7,
   "metadata": {},
   "outputs": [],
   "source": [
    "# getInfo('https://www.nguyenkim.com/dien-thoai-samsung-galaxy-a52-4g-8gb-128gb-xanh.html')\n"
   ]
  },
  {
   "cell_type": "code",
   "execution_count": 8,
   "metadata": {},
   "outputs": [
    {
     "name": "stdout",
     "output_type": "stream",
     "text": [
      "page:  852\n",
      "page:  853\n",
      "error:  https://www.nettruyenonline.com/truyen-hay-nhat/853.html\n",
      "page:  854\n"
     ]
    }
   ],
   "source": [
    "data_dict = []\n",
    "number = 8\n",
    "\n",
    "for page in range(number*100+52, (number+1)*100+52):\n",
    "    print(\"page: \", page)\n",
    "    URL = \"https://www.nettruyenonline.com/truyen-hay-nhat/{}.html\".format(page) \n",
    "    try:\n",
    "        page = requests.get(URL) # lấy nội dung html của từng trang\n",
    "\n",
    "        soup = BeautifulSoup(page.content, \"html.parser\") # dùng thử viện đẻ parse html\n",
    "        \n",
    "        product_list = soup.select('div.row > div.item') # lấy tất cả các item của trang\n",
    "        # print(product_list[0])\n",
    "\n",
    "        for product in product_list:\n",
    "            product_link =  product.find('a').get_attribute_list('href')[0] # lấy link của từng item\n",
    "            # print(product_link) \n",
    "            data_dict.append(getInfo(product_link)) # dùng hàm getInfo để lấy thông tin của từng item\n",
    "    except:\n",
    "        print(\"error: \", URL)\n",
    "    \n",
    "\n",
    "        \n",
    "        "
   ]
  },
  {
   "cell_type": "code",
   "execution_count": null,
   "metadata": {},
   "outputs": [],
   "source": [
    "\n",
    "df = pd.DataFrame.from_dict(data_dict, orient='columns')\n",
    "df = df.drop_duplicates(subset=['name'], keep=False)\n",
    "df.to_csv('data_crawler_{}.csv'.format(number))"
   ]
  },
  {
   "cell_type": "code",
   "execution_count": null,
   "metadata": {},
   "outputs": [
    {
     "name": "stdout",
     "output_type": "stream",
     "text": [
      "<class 'pandas.core.frame.DataFrame'>\n",
      "Int64Index: 2365 entries, 0 to 2378\n",
      "Data columns (total 8 columns):\n",
      " #   Column           Non-Null Count  Dtype \n",
      "---  ------           --------------  ----- \n",
      " 0   name             2365 non-null   object\n",
      " 1   category         2365 non-null   object\n",
      " 2   author           2365 non-null   object\n",
      " 3   categories_list  2365 non-null   object\n",
      " 4   view_count       2365 non-null   object\n",
      " 5   ratting_value    2365 non-null   object\n",
      " 6   ratting_count    2365 non-null   object\n",
      " 7   chapter_cout     2365 non-null   object\n",
      "dtypes: object(8)\n",
      "memory usage: 166.3+ KB\n"
     ]
    }
   ],
   "source": [
    "df.info()"
   ]
  },
  {
   "cell_type": "code",
   "execution_count": null,
   "metadata": {},
   "outputs": [
    {
     "data": {
      "text/html": [
       "<div>\n",
       "<style scoped>\n",
       "    .dataframe tbody tr th:only-of-type {\n",
       "        vertical-align: middle;\n",
       "    }\n",
       "\n",
       "    .dataframe tbody tr th {\n",
       "        vertical-align: top;\n",
       "    }\n",
       "\n",
       "    .dataframe thead th {\n",
       "        text-align: right;\n",
       "    }\n",
       "</style>\n",
       "<table border=\"1\" class=\"dataframe\">\n",
       "  <thead>\n",
       "    <tr style=\"text-align: right;\">\n",
       "      <th></th>\n",
       "      <th>name</th>\n",
       "      <th>category</th>\n",
       "      <th>author</th>\n",
       "      <th>categories_list</th>\n",
       "      <th>view_count</th>\n",
       "      <th>ratting_value</th>\n",
       "      <th>ratting_count</th>\n",
       "      <th>chapter_cout</th>\n",
       "    </tr>\n",
       "  </thead>\n",
       "  <tbody>\n",
       "    <tr>\n",
       "      <th>0</th>\n",
       "      <td>Yuki-chan no Baka, Daisuki</td>\n",
       "      <td>One Shot</td>\n",
       "      <td>TAMURA Kotoyu</td>\n",
       "      <td>Romance, Shoujo, Comedy, One Shot,</td>\n",
       "      <td>21,189</td>\n",
       "      <td>4</td>\n",
       "      <td>21189</td>\n",
       "      <td>Chapter 1</td>\n",
       "    </tr>\n",
       "    <tr>\n",
       "      <th>1</th>\n",
       "      <td>Ma Phi Giá Đáo</td>\n",
       "      <td>Mystery</td>\n",
       "      <td>Đang cập nhật</td>\n",
       "      <td>Mystery, Romance, Xuyên không, Manhua,</td>\n",
       "      <td>21,189</td>\n",
       "      <td>4</td>\n",
       "      <td>21189</td>\n",
       "      <td>Chapter 197.6</td>\n",
       "    </tr>\n",
       "    <tr>\n",
       "      <th>2</th>\n",
       "      <td>Zennin Ossan, Umarekawattara SSS Rank Jinsei g...</td>\n",
       "      <td>Fantasy</td>\n",
       "      <td>Nazuna Miki - Shiro Yuzuma</td>\n",
       "      <td>Shounen, Romance, Fantasy, Supernatural, Adven...</td>\n",
       "      <td>21,189</td>\n",
       "      <td>4</td>\n",
       "      <td>21189</td>\n",
       "      <td>Chapter 3</td>\n",
       "    </tr>\n",
       "    <tr>\n",
       "      <th>3</th>\n",
       "      <td>Chinh Phục Playboy! Hãy Cho Tôi Xem Nơi “Hư Hỏ...</td>\n",
       "      <td>Manga</td>\n",
       "      <td>Kurosaki Naoki</td>\n",
       "      <td>Josei, Slice of Life, Drama, School Life, Shou...</td>\n",
       "      <td>21,185</td>\n",
       "      <td>4</td>\n",
       "      <td>21185</td>\n",
       "      <td>Chapter 1</td>\n",
       "    </tr>\n",
       "    <tr>\n",
       "      <th>4</th>\n",
       "      <td>Xương Của Quỷ Dữ</td>\n",
       "      <td>Horror</td>\n",
       "      <td>Hắc Mục Sư</td>\n",
       "      <td>Mystery, Horror, Manhua,</td>\n",
       "      <td>21,182</td>\n",
       "      <td>4</td>\n",
       "      <td>21182</td>\n",
       "      <td>Chapter 1</td>\n",
       "    </tr>\n",
       "  </tbody>\n",
       "</table>\n",
       "</div>"
      ],
      "text/plain": [
       "                                                name  category  \\\n",
       "0                         Yuki-chan no Baka, Daisuki  One Shot   \n",
       "1                                     Ma Phi Giá Đáo   Mystery   \n",
       "2  Zennin Ossan, Umarekawattara SSS Rank Jinsei g...   Fantasy   \n",
       "3  Chinh Phục Playboy! Hãy Cho Tôi Xem Nơi “Hư Hỏ...     Manga   \n",
       "4                                   Xương Của Quỷ Dữ    Horror   \n",
       "\n",
       "                       author  \\\n",
       "0               TAMURA Kotoyu   \n",
       "1               Đang cập nhật   \n",
       "2  Nazuna Miki - Shiro Yuzuma   \n",
       "3              Kurosaki Naoki   \n",
       "4                  Hắc Mục Sư   \n",
       "\n",
       "                                     categories_list view_count ratting_value  \\\n",
       "0                Romance, Shoujo, Comedy, One Shot,      21,189             4   \n",
       "1            Mystery, Romance, Xuyên không, Manhua,      21,189             4   \n",
       "2  Shounen, Romance, Fantasy, Supernatural, Adven...     21,189             4   \n",
       "3  Josei, Slice of Life, Drama, School Life, Shou...     21,185             4   \n",
       "4                          Mystery, Horror, Manhua,      21,182             4   \n",
       "\n",
       "  ratting_count   chapter_cout  \n",
       "0         21189      Chapter 1  \n",
       "1         21189  Chapter 197.6  \n",
       "2         21189      Chapter 3  \n",
       "3         21185      Chapter 1  \n",
       "4         21182      Chapter 1  "
      ]
     },
     "execution_count": 35,
     "metadata": {},
     "output_type": "execute_result"
    }
   ],
   "source": [
    "df.head()"
   ]
  },
  {
   "cell_type": "code",
   "execution_count": null,
   "metadata": {},
   "outputs": [],
   "source": [
    "# df = pd.read_csv('./data_phone_nguyen_kiem.csv')\n",
    "\n",
    "# df_ = df.drop_duplicates(subset=['name'], keep=False)\n",
    "# df_.info()"
   ]
  },
  {
   "cell_type": "code",
   "execution_count": null,
   "metadata": {},
   "outputs": [],
   "source": []
  }
 ],
 "metadata": {
  "interpreter": {
   "hash": "d4940367a1c247cff1973171d13d91a9d216bc6cf526cc3d6f510584c0efb217"
  },
  "kernelspec": {
   "display_name": "Python 3.6.13 64-bit ('AI': conda)",
   "language": "python",
   "name": "python3"
  },
  "language_info": {
   "codemirror_mode": {
    "name": "ipython",
    "version": 3
   },
   "file_extension": ".py",
   "mimetype": "text/x-python",
   "name": "python",
   "nbconvert_exporter": "python",
   "pygments_lexer": "ipython3",
   "version": "3.6.13"
  },
  "orig_nbformat": 4
 },
 "nbformat": 4,
 "nbformat_minor": 2
}
